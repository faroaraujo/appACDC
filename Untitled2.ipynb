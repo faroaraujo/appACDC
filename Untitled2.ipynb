{
  "nbformat": 4,
  "nbformat_minor": 0,
  "metadata": {
    "colab": {
      "provenance": [],
      "authorship_tag": "ABX9TyO3YwICwGIYTWAQxN6j1k1R",
      "include_colab_link": true
    },
    "kernelspec": {
      "name": "python3",
      "display_name": "Python 3"
    },
    "language_info": {
      "name": "python"
    }
  },
  "cells": [
    {
      "cell_type": "markdown",
      "metadata": {
        "id": "view-in-github",
        "colab_type": "text"
      },
      "source": [
        "<a href=\"https://colab.research.google.com/github/faroaraujo/appACDC/blob/main/Untitled2.ipynb\" target=\"_parent\"><img src=\"https://colab.research.google.com/assets/colab-badge.svg\" alt=\"Open In Colab\"/></a>"
      ]
    },
    {
      "cell_type": "markdown",
      "source": [
        "Instalando o SDK do Google"
      ],
      "metadata": {
        "id": "UPE-ael2jmNo"
      }
    },
    {
      "cell_type": "code",
      "source": [
        "!pip install -q -U google-generativeai"
      ],
      "metadata": {
        "id": "HTc01iM5jp9s"
      },
      "execution_count": 1,
      "outputs": []
    },
    {
      "cell_type": "code",
      "source": [
        "# Import the Python SDK\n",
        "import google.generativeai as genai\n",
        "# Used to securely store your API key\n",
        "from google.colab import userdata\n",
        "\n",
        "GOOGLE_API_KEY=\"SECRET_KEY\"\n",
        "genai.configure(api_key=GOOGLE_API_KEY)"
      ],
      "metadata": {
        "id": "4wgUEKAjj-lv"
      },
      "execution_count": 2,
      "outputs": []
    },
    {
      "cell_type": "markdown",
      "source": [
        "Listas os modelos disponíveis"
      ],
      "metadata": {
        "id": "00r1AhjnkMTp"
      }
    },
    {
      "cell_type": "code",
      "source": [
        "for m in genai.list_models():\n",
        "  if 'generateContent' in m.supported_generation_methods:\n",
        "    print(m.name)"
      ],
      "metadata": {
        "colab": {
          "base_uri": "https://localhost:8080/",
          "height": 139
        },
        "id": "-4h8FxtWkIqA",
        "outputId": "1fe5d4ad-dc67-4d5e-ca0b-ea0ad4cfd717"
      },
      "execution_count": 4,
      "outputs": [
        {
          "output_type": "stream",
          "name": "stdout",
          "text": [
            "models/gemini-1.0-pro\n",
            "models/gemini-1.0-pro-001\n",
            "models/gemini-1.0-pro-latest\n",
            "models/gemini-1.0-pro-vision-latest\n",
            "models/gemini-1.5-pro-latest\n",
            "models/gemini-pro\n",
            "models/gemini-pro-vision\n"
          ]
        }
      ]
    },
    {
      "cell_type": "code",
      "source": [
        "generation_config = {\n",
        "    \"candidate_count\": 1,\n",
        "    \"temperature\": 0.5,\n",
        "}"
      ],
      "metadata": {
        "id": "8BVE7CcfnAwp"
      },
      "execution_count": 5,
      "outputs": []
    },
    {
      "cell_type": "code",
      "source": [
        "safety_settings = {\n",
        "    \"HARASSMENT\": \"BLOCK_NONE\",\n",
        "    \"HATE\":  \"BLOCK_NONE\",\n",
        "    \"SEXUAL\":  \"BLOCK_NONE\",\n",
        "    \"DANGEROUS\":  \"BLOCK_NONE\",\n",
        "}"
      ],
      "metadata": {
        "id": "ALNA5ZlKn7_b"
      },
      "execution_count": 6,
      "outputs": []
    },
    {
      "cell_type": "markdown",
      "source": [
        "Inicializando o modelo\n"
      ],
      "metadata": {
        "id": "CmsZ7G7CqFMS"
      }
    },
    {
      "cell_type": "code",
      "source": [
        "model = genai.GenerativeModel(model_name= \"gemini-1.0-pro\",\n",
        "                              generation_config=generation_config,\n",
        "                              safety_settings=safety_settings)"
      ],
      "metadata": {
        "id": "dZVo6AgmqHyO"
      },
      "execution_count": 8,
      "outputs": []
    },
    {
      "cell_type": "code",
      "source": [
        "response = model.generate_content(\"Vamos apresnder conteúdo sobre IA. Me dê sugestões.\")\n",
        "print(response.text)"
      ],
      "metadata": {
        "colab": {
          "base_uri": "https://localhost:8080/",
          "height": 746
        },
        "id": "UoWQWduurTNK",
        "outputId": "fb1ab5da-db3c-4a21-b6c6-f9e5a09221ac"
      },
      "execution_count": 9,
      "outputs": [
        {
          "output_type": "stream",
          "name": "stdout",
          "text": [
            "**Conceitos Fundamentais**\n",
            "\n",
            "* Definição de Inteligência Artificial (IA)\n",
            "* Tipos de IA (IA fraca, IA forte, IA geral)\n",
            "* Aprendizado de máquina (ML) e aprendizado profundo (DL)\n",
            "* Redes neurais e processamento de linguagem natural (PNL)\n",
            "\n",
            "**Aplicações da IA**\n",
            "\n",
            "* Visão computacional e reconhecimento de imagem\n",
            "* Processamento de linguagem natural e tradução automática\n",
            "* Veículos autônomos e robótica\n",
            "* Assistentes pessoais e chatbots\n",
            "* Cuidados de saúde e diagnóstico médico\n",
            "\n",
            "**Ética e Implicações da IA**\n",
            "\n",
            "* Viés e discriminação em algoritmos de IA\n",
            "* Perda de empregos e automação\n",
            "* Preocupações com privacidade e vigilância\n",
            "* Regulamentação e governança da IA\n",
            "\n",
            "**Técnicas e Ferramentas de IA**\n",
            "\n",
            "* Bibliotecas e frameworks de ML (TensorFlow, PyTorch)\n",
            "* Linguagens de programação para IA (Python, R)\n",
            "* Ferramentas de desenvolvimento de IA (Jupyter Notebook, colab)\n",
            "\n",
            "**Recursos de Aprendizagem**\n",
            "\n",
            "* **Cursos online:** Coursera, edX, Udemy\n",
            "* **Livros:** \"Inteligência Artificial: Uma Abordagem Moderna\" (Stuart Russell e Peter Norvig), \"Aprendizado Profundo\" (Ian Goodfellow, Yoshua Bengio e Aaron Courville)\n",
            "* **Artigos de pesquisa:** arXiv, IEEE Xplore\n",
            "* **Conferências e workshops:** NeurIPS, ICML, CVPR\n",
            "\n",
            "**Dicas para Aprender IA**\n",
            "\n",
            "* Comece com os conceitos básicos\n",
            "* Pratique com conjuntos de dados e projetos\n",
            "* Participe de comunidades e fóruns online\n",
            "* Fique atualizado com as tendências e pesquisas mais recentes\n",
            "* Seja paciente e persistente\n"
          ]
        }
      ]
    },
    {
      "cell_type": "code",
      "source": [
        "chat = model.start_chat(history = [])"
      ],
      "metadata": {
        "id": "ZDzCF69lr2xH"
      },
      "execution_count": 10,
      "outputs": []
    },
    {
      "cell_type": "code",
      "source": [
        "prompt = input(\"Esperando prompt:\")\n",
        "\n",
        "while prompt != \"fim\":\n",
        "  response = chat.send_message(prompt)\n",
        "  print(\"Resposta:\", response.text, \"\\n\")\n",
        "  prompt = input(\"Esperando prompt:\")"
      ],
      "metadata": {
        "colab": {
          "base_uri": "https://localhost:8080/",
          "height": 347
        },
        "id": "0SjhVYLusVip",
        "outputId": "89a7c1eb-b5d2-4a57-81df-7a9830dfdcc2"
      },
      "execution_count": 12,
      "outputs": [
        {
          "name": "stdout",
          "output_type": "stream",
          "text": [
            "Esperando prompt:Qual é a capital do Japão?\n",
            "Resposta: Tóquio \n",
            "\n",
            "Esperando prompt:Qual é a comida típica desse país?\n",
            "Resposta: Sushi \n",
            "\n",
            "Esperando prompt:Meu primo nasceu nessa cidade. Qual é a nacionalidade dele?\n",
            "Resposta: Japonesa \n",
            "\n",
            "Esperando prompt:E qual é a população dessa cidade?\n",
            "Resposta: Cerca de 9 milhões de habitantes \n",
            "\n",
            "Esperando prompt:Qual é a população de Tóquio?\n",
            "Resposta: Cerca de 9 milhões de habitantes \n",
            "\n",
            "Esperando prompt:Qual é a população da região metropoltana de Tóquio?\n",
            "Resposta: Cerca de 37 milhões de habitantes \n",
            "\n",
            "Esperando prompt:fim\n"
          ]
        }
      ]
    },
    {
      "cell_type": "code",
      "source": [
        "# Melhorando a visualização\n",
        "# Código disponível em https://ai.google.dev/tutorials/python-quickstart#import-packages\n",
        "\n",
        "import textwrap\n",
        "from IPython.display import display\n",
        "\n",
        "from IPython.display import Markdown\n",
        "\n",
        "def to_markdown(text):\n",
        "    \"\"\"\n",
        "    Converte texto em Markdown.\n",
        "\n",
        "    Args:\n",
        "        text (str): O texto a ser convertido.\n",
        "\n",
        "    Returns:\n",
        "        Markdown: O texto formatado em Markdown.\n",
        "    \"\"\"\n",
        "    text = text.replace('.', '.\\n')\n",
        "    return Markdown(textwrap.indent(text, \"> \"))\n",
        "\n",
        "# Imprimindo o histórico\n",
        "for message in chat.history:\n",
        "    display(to_markdown(f\"**({message.role})**: ({message.parts[0].text})\"))\n",
        "\n",
        "print('---')"
      ],
      "metadata": {
        "colab": {
          "base_uri": "https://localhost:8080/",
          "height": 425
        },
        "id": "tiMmEc-TvnKu",
        "outputId": "a6d64eea-ce33-44e3-f370-acd905031e0b"
      },
      "execution_count": 13,
      "outputs": [
        {
          "output_type": "display_data",
          "data": {
            "text/plain": [
              "<IPython.core.display.Markdown object>"
            ],
            "text/markdown": "> **(user)**: (Qual é a capital do Japão?)"
          },
          "metadata": {}
        },
        {
          "output_type": "display_data",
          "data": {
            "text/plain": [
              "<IPython.core.display.Markdown object>"
            ],
            "text/markdown": "> **(model)**: (Tóquio)"
          },
          "metadata": {}
        },
        {
          "output_type": "display_data",
          "data": {
            "text/plain": [
              "<IPython.core.display.Markdown object>"
            ],
            "text/markdown": "> **(user)**: (Qual é a comida típica desse país?)"
          },
          "metadata": {}
        },
        {
          "output_type": "display_data",
          "data": {
            "text/plain": [
              "<IPython.core.display.Markdown object>"
            ],
            "text/markdown": "> **(model)**: (Sushi)"
          },
          "metadata": {}
        },
        {
          "output_type": "display_data",
          "data": {
            "text/plain": [
              "<IPython.core.display.Markdown object>"
            ],
            "text/markdown": "> **(user)**: (Meu primo nasceu nessa cidade.\n>  Qual é a nacionalidade dele?)"
          },
          "metadata": {}
        },
        {
          "output_type": "display_data",
          "data": {
            "text/plain": [
              "<IPython.core.display.Markdown object>"
            ],
            "text/markdown": "> **(model)**: (Japonesa)"
          },
          "metadata": {}
        },
        {
          "output_type": "display_data",
          "data": {
            "text/plain": [
              "<IPython.core.display.Markdown object>"
            ],
            "text/markdown": "> **(user)**: (E qual é a população dessa cidade?)"
          },
          "metadata": {}
        },
        {
          "output_type": "display_data",
          "data": {
            "text/plain": [
              "<IPython.core.display.Markdown object>"
            ],
            "text/markdown": "> **(model)**: (Cerca de 9 milhões de habitantes)"
          },
          "metadata": {}
        },
        {
          "output_type": "display_data",
          "data": {
            "text/plain": [
              "<IPython.core.display.Markdown object>"
            ],
            "text/markdown": "> **(user)**: (Qual é a população de Tóquio?)"
          },
          "metadata": {}
        },
        {
          "output_type": "display_data",
          "data": {
            "text/plain": [
              "<IPython.core.display.Markdown object>"
            ],
            "text/markdown": "> **(model)**: (Cerca de 9 milhões de habitantes)"
          },
          "metadata": {}
        },
        {
          "output_type": "display_data",
          "data": {
            "text/plain": [
              "<IPython.core.display.Markdown object>"
            ],
            "text/markdown": "> **(user)**: (Qual é a população da região metropoltana de Tóquio?)"
          },
          "metadata": {}
        },
        {
          "output_type": "display_data",
          "data": {
            "text/plain": [
              "<IPython.core.display.Markdown object>"
            ],
            "text/markdown": "> **(model)**: (Cerca de 37 milhões de habitantes)"
          },
          "metadata": {}
        },
        {
          "output_type": "stream",
          "name": "stdout",
          "text": [
            "---\n"
          ]
        }
      ]
    }
  ]
}
